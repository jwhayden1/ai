{
 "cells": [
  {
   "cell_type": "code",
   "id": "initial_id",
   "metadata": {
    "collapsed": true,
    "ExecuteTime": {
     "end_time": "2024-12-07T17:11:31.954537Z",
     "start_time": "2024-12-07T17:11:31.948001Z"
    }
   },
   "source": [
    "import os\n",
    "import cv2\n",
    "import numpy as np\n",
    "from skimage.feature import hog\n",
    "from sklearn.metrics import accuracy_score, confusion_matrix\n",
    "from sklearn.preprocessing import StandardScaler\n",
    "from sklearn.pipeline import make_pipeline\n",
    "from sklearn.svm import SVC\n",
    "from collections import Counter\n",
    "# Defines the dataset paths\n",
    "jaffe_train_path = \"models/JAFFE-[70,30]/train/\"\n",
    "jaffe_test_path = \"models/JAFFE-[70,30]/test/\"\n",
    "ck_train_path = \"CK_dataset/train/\"\n",
    "ck_test_path = \"CK_dataset/test/\"\n"
   ],
   "outputs": [],
   "execution_count": 9
  },
  {
   "metadata": {
    "ExecuteTime": {
     "end_time": "2024-12-07T17:11:32.076444Z",
     "start_time": "2024-12-07T17:11:31.998378Z"
    }
   },
   "cell_type": "code",
   "source": "face_cascade = cv2.CascadeClassifier('haarcascade_frontalface_default.xml')",
   "id": "cc2a16121c68c70d",
   "outputs": [],
   "execution_count": 10
  },
  {
   "metadata": {
    "ExecuteTime": {
     "end_time": "2024-12-07T17:11:32.089853Z",
     "start_time": "2024-12-07T17:11:32.076444Z"
    }
   },
   "cell_type": "code",
   "source": [
    "# Function to read in and detect facial images. \n",
    "def load_detect_faces(path):\n",
    "    images = []\n",
    "    labels = []\n",
    "    for label in os.listdir(path):\n",
    "        label_path = os.path.join(path, label)\n",
    "        if os.path.isdir(label_path):\n",
    "            for img_file in os.listdir(label_path):\n",
    "                img_path = os.path.join(label_path, img_file)\n",
    "                img = cv2.imread(img_path, cv2.IMREAD_GRAYSCALE)\n",
    "                if img is not None:\n",
    "                    faces = face_cascade.detectMultiScale(img, scaleFactor=1.1, minNeighbors=5, minSize=(30, 30))\n",
    "                    for (x, y, w, h) in faces:\n",
    "                        face_region = img[y:y + h, x:x + w] \n",
    "                        images.append(face_region)\n",
    "                        labels.append(label)\n",
    "    return images, labels  # I moved the return outside the loop"
   ],
   "id": "1d723b7096829879",
   "outputs": [],
   "execution_count": 11
  },
  {
   "metadata": {
    "ExecuteTime": {
     "end_time": "2024-12-07T17:11:32.108282Z",
     "start_time": "2024-12-07T17:11:32.100139Z"
    }
   },
   "cell_type": "code",
   "source": [
    "def preprocess_images(images):\n",
    "    preprocessed_images = []\n",
    "    for image in images:\n",
    "        img = cv2.equalizeHist(image)\n",
    "        preprocessed_images.append(img)\n",
    "    return preprocessed_images"
   ],
   "id": "1bb5d3eec0e4a5d5",
   "outputs": [],
   "execution_count": 12
  },
  {
   "metadata": {
    "ExecuteTime": {
     "end_time": "2024-12-07T17:11:32.124990Z",
     "start_time": "2024-12-07T17:11:32.119072Z"
    }
   },
   "cell_type": "code",
   "source": [
    "def hog_feature_extraction(images):\n",
    "    hog_features = []\n",
    "    for image in images:\n",
    "        image = cv2.resize(image, (64, 64)) # use 64 for more detail/pixels. 32 only produced 0.5 accuracy. \n",
    "        hog_feature = hog(image, orientations=8, pixels_per_cell=(8, 8), cells_per_block=(2, 2), block_norm='L2-Hys')\n",
    "        hog_features.append(hog_feature)\n",
    "    return np.array(hog_features)"
   ],
   "id": "fd3527f410f0d690",
   "outputs": [],
   "execution_count": 13
  },
  {
   "metadata": {
    "ExecuteTime": {
     "end_time": "2024-12-07T17:11:32.144342Z",
     "start_time": "2024-12-07T17:11:32.135800Z"
    }
   },
   "cell_type": "code",
   "source": [
    "def load_dataset(train_path, test_path):\n",
    "    X_train, y_train = load_detect_faces(train_path)\n",
    "    X_test, y_test = load_detect_faces(test_path)\n",
    "    \n",
    "    # Preprocess and extract features - use HoG\n",
    "    X_train = preprocess_images(X_train)\n",
    "    X_test = preprocess_images(X_test)\n",
    "    \n",
    "    X_train_features = hog_feature_extraction(X_train)\n",
    "    X_test_features = hog_feature_extraction(X_test)\n",
    "    \n",
    "    return X_train_features, y_train, X_test_features, y_test\n"
   ],
   "id": "52e1fd3d4ffe251b",
   "outputs": [],
   "execution_count": 14
  },
  {
   "metadata": {
    "ExecuteTime": {
     "end_time": "2024-12-07T17:11:42.809948Z",
     "start_time": "2024-12-07T17:11:32.154908Z"
    }
   },
   "cell_type": "code",
   "source": [
    "# Load the JAFFE dataset\n",
    "jaffe_X_train, jaffe_y_train, jaffe_X_test, jaffe_y_test = load_dataset(jaffe_train_path, jaffe_test_path)\n",
    "\n",
    "# Load the CK dataset\n",
    "ck_X_train, ck_y_train, ck_X_test, ck_y_test = load_dataset(ck_train_path, ck_test_path)\n"
   ],
   "id": "7ef0900969ea5e6f",
   "outputs": [],
   "execution_count": 15
  },
  {
   "metadata": {
    "ExecuteTime": {
     "end_time": "2024-12-07T17:12:06.728292Z",
     "start_time": "2024-12-07T17:12:06.714511Z"
    }
   },
   "cell_type": "code",
   "source": [
    "# Combine the training data\n",
    "X_train_combined = np.concatenate((jaffe_X_train, ck_X_train), axis=0)\n",
    "y_train_combined = np.concatenate((jaffe_y_train, ck_y_train), axis=0)\n",
    "\n",
    "# Combine the testing data\n",
    "X_test_combined = np.concatenate((jaffe_X_test, ck_X_test), axis=0)\n",
    "y_test_combined = np.concatenate((jaffe_y_test, ck_y_test), axis=0)\n"
   ],
   "id": "3d431dc3fe225cd",
   "outputs": [],
   "execution_count": 16
  },
  {
   "metadata": {
    "ExecuteTime": {
     "end_time": "2024-12-07T17:12:17.766771Z",
     "start_time": "2024-12-07T17:12:17.460160Z"
    }
   },
   "cell_type": "code",
   "source": [
    "# Train the model\n",
    "svm = make_pipeline(StandardScaler(), SVC(kernel='rbf', C=7, gamma='scale'))\n",
    "svm.fit(X_train_combined, y_train_combined)\n",
    "\n",
    "# Test the model\n",
    "y_pred_combined = svm.predict(X_test_combined)\n",
    "\n",
    "print(\"Accuracy:\", accuracy_score(y_test_combined, y_pred_combined))\n",
    "print(\"Confusion Matrix:\\n\", confusion_matrix(y_test_combined, y_pred_combined))\n"
   ],
   "id": "2a1d57f1f1c65f00",
   "outputs": [
    {
     "name": "stdout",
     "output_type": "stream",
     "text": [
      "Accuracy: 0.6717171717171717\n",
      "Confusion Matrix:\n",
      " [[ 7  0  0  1  1  0  0  0  0  0  0  0]\n",
      " [ 0  9  0  0  1  0  0  0  0  0  0  0]\n",
      " [ 0  3  6  0  0  0  0  0  0  0  0  0]\n",
      " [ 0  0  0  9  0  0  0  0  0  0  0  0]\n",
      " [ 0  1  0  0  8  0  0  0  0  0  0  0]\n",
      " [ 0  3  0  0  0  6  0  0  0  0  0  0]\n",
      " [ 0  0  0  0  0  0  5  0  0 12  1  0]\n",
      " [ 0  0  0  0  0  0  0  0  0  3  4  0]\n",
      " [ 0  0  0  0  0  0  0  0 26  4  0  0]\n",
      " [ 0  0  0  0  0  0  0  0  3 27  1  5]\n",
      " [ 0  0  0  0  0  0  1  0  0 10  6  0]\n",
      " [ 0  0  0  0  0  0  0  0  0 10  1 24]]\n"
     ]
    }
   ],
   "execution_count": 17
  },
  {
   "metadata": {
    "ExecuteTime": {
     "end_time": "2024-12-07T17:17:08.011690Z",
     "start_time": "2024-12-07T17:17:07.871472Z"
    }
   },
   "cell_type": "code",
   "source": [
    "# Test on JAFFE data\n",
    "jaffe_y_pred = svm.predict(jaffe_X_test)\n",
    "print(\"JAFFE Accuracy:\", accuracy_score(jaffe_y_test, jaffe_y_pred))\n",
    "print(\"JAFFE Confusion Matrix:\\n\", confusion_matrix(jaffe_y_test, jaffe_y_pred))\n",
    "\n",
    "# Test on CK data\n",
    "ck_y_pred = svm.predict(ck_X_test)\n",
    "print(\"CK Accuracy:\", accuracy_score(ck_y_test, ck_y_pred))\n",
    "print(\"CK Confusion Matrix:\\n\", confusion_matrix(ck_y_test, ck_y_pred))\n"
   ],
   "id": "92f1adc7f178139a",
   "outputs": [
    {
     "name": "stdout",
     "output_type": "stream",
     "text": [
      "JAFFE Accuracy: 0.8181818181818182\n",
      "JAFFE Confusion Matrix:\n",
      " [[7 0 0 1 1 0]\n",
      " [0 9 0 0 1 0]\n",
      " [0 3 6 0 0 0]\n",
      " [0 0 0 9 0 0]\n",
      " [0 1 0 0 8 0]\n",
      " [0 3 0 0 0 6]]\n",
      "CK Accuracy: 0.6153846153846154\n",
      "CK Confusion Matrix:\n",
      " [[ 5  0  0 12  1  0]\n",
      " [ 0  0  0  3  4  0]\n",
      " [ 0  0 26  4  0  0]\n",
      " [ 0  0  3 27  1  5]\n",
      " [ 1  0  0 10  6  0]\n",
      " [ 0  0  0 10  1 24]]\n"
     ]
    }
   ],
   "execution_count": 19
  }
 ],
 "metadata": {
  "kernelspec": {
   "display_name": "Python 3",
   "language": "python",
   "name": "python3"
  },
  "language_info": {
   "codemirror_mode": {
    "name": "ipython",
    "version": 2
   },
   "file_extension": ".py",
   "mimetype": "text/x-python",
   "name": "python",
   "nbconvert_exporter": "python",
   "pygments_lexer": "ipython2",
   "version": "2.7.6"
  }
 },
 "nbformat": 4,
 "nbformat_minor": 5
}
